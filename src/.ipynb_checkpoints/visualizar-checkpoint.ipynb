{
 "cells": [
  {
   "cell_type": "code",
   "execution_count": null,
   "metadata": {
    "vscode": {
     "languageId": "plaintext"
    }
   },
   "outputs": [],
   "source": [
    "import sys\n",
    "from io import StringIO\n",
    "from grafo import ler_arquivo_ins_stdin, calcular_estatisticas\n",
    "\n",
    "# Simular entrada padrão\n",
    "with open(\"ins/04.ins\", \"r\") as arquivo:\n",
    "    sys.stdin = StringIO(arquivo.read())\n",
    "\n",
    "# Carregar o grafo\n",
    "grafo = ler_arquivo_ins_stdin()\n",
    "\n",
    "# Calcular estatísticas\n",
    "estatisticas = calcular_estatisticas(grafo)\n",
    "\n",
    "# Exibir estatísticas\n",
    "for chave, valor in estatisticas.items():\n",
    "    print(f\"{chave}: {valor}\")"
   ]
  }
 ],
 "metadata": {
  "language_info": {
   "name": "python"
  }
 },
 "nbformat": 4,
 "nbformat_minor": 2
}
