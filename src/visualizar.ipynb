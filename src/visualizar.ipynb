{
 "cells": [
  {
   "cell_type": "code",
   "execution_count": null,
   "metadata": {
    "vscode": {
     "languageId": "plaintext"
    }
   },
   "outputs": [],
   "source": [
    "import sys\n",
    "from io import StringIO\n",
    "from grafo import ler_arquivo_ins_stdin\n",
    "from calcular_estatisticas import (\n",
    "    calcular_estatisticas,\n",
    "    calcular_intermediacao,\n",
    "    calcular_caminho_medio,\n",
    "    calcular_diametro\n",
    ")\n",
    "from geracao_matriz import floyd_warshall\n",
    "\n",
    "# Simular entrada padrão\n",
    "with open(\"ins/04.ins\", \"r\") as arquivo:  # Altere o caminho para o arquivo desejado\n",
    "    sys.stdin = StringIO(arquivo.read())\n",
    "\n",
    "# Carregar o grafo\n",
    "grafo = ler_arquivo_ins_stdin()\n",
    "\n",
    "# Calcular estatísticas básicas\n",
    "estatisticas = calcular_estatisticas(grafo)\n",
    "\n",
    "# Calcular a matriz de caminhos mais curtos\n",
    "matriz_caminhos = floyd_warshall(grafo)\n",
    "\n",
    "# Calcular métricas adicionais\n",
    "estatisticas[\"Intermediação\"] = calcular_intermediacao(grafo, matriz_caminhos)\n",
    "estatisticas[\"Caminho médio\"] = calcular_caminho_medio(matriz_caminhos)\n",
    "estatisticas[\"Diâmetro\"] = calcular_diametro(matriz_caminhos)\n",
    "\n",
    "# Exibir estatísticas\n",
    "for chave, valor in estatisticas.items():\n",
    "    print(f\"{chave}: {valor}\")"
   ]
  }
 ],
 "metadata": {
  "kernelspec": {
   "display_name": "Python 3 (ipykernel)",
   "language": "python",
   "name": "python3"
  },
  "language_info": {
   "codemirror_mode": {
    "name": "ipython",
    "version": 3
   },
   "file_extension": ".py",
   "mimetype": "text/x-python",
   "name": "python",
   "nbconvert_exporter": "python",
   "pygments_lexer": "ipython3",
   "version": "3.13.1"
  }
 },
 "nbformat": 4,
 "nbformat_minor": 4
}
